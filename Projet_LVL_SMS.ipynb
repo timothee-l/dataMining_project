{
 "nbformat": 4,
 "nbformat_minor": 0,
 "metadata": {
  "colab": {
   "name": "Projet_LVL_SMS.ipynb",
   "provenance": [],
   "collapsed_sections": []
  },
  "kernelspec": {
   "name": "python3",
   "display_name": "Python 3"
  },
  "language_info": {
   "name": "python"
  }
 },
 "cells": [
  {
   "cell_type": "markdown",
   "source": [
    "Projet Data Mining"
   ],
   "metadata": {
    "id": "0DQlT_ve600K"
   }
  },
  {
   "cell_type": "code",
   "execution_count": 11,
   "metadata": {
    "id": "qFArxEDuw7I6"
   },
   "outputs": [],
   "source": [
    "import requests\n",
    "\n",
    "url = 'https://query.wikidata.org/sparql'\n",
    "query = '''\n",
    "SELECT ?itemLabel ?pic ?movementLabel ?creatorLabel ?inception\n",
    "WHERE\n",
    "{\n",
    "?item wdt:P31 wd:Q3305213 .\n",
    "?item wdt:P135 ?movement .\n",
    "?item wdt:P170 ?creator .\n",
    "?item wdt:P18 ?pic .\n",
    "?item wdt:P571 ?inception\n",
    "SERVICE wikibase:label { bd:serviceParam wikibase:language \"[AUTO_LANGUAGE],en\" }\n",
    "}\n",
    "LIMIT 100\n",
    "'''\n",
    "\n",
    "r = requests.get(url, params = {'format': 'json', 'query': query})\n",
    "data = r.json()\n"
   ]
  },
  {
   "cell_type": "markdown",
   "source": [],
   "metadata": {
    "id": "FYwY_VUB_N0p"
   }
  },
  {
   "cell_type": "code",
   "source": [
    "import pandas as pd\n",
    "import shutil, os, requests\n",
    "\n",
    "shutil.rmtree('./images')\n",
    "os.mkdir('./images')\n",
    "parsed_data = []\n",
    "\n",
    "for entry in data ['results']['bindings']:\n",
    "    url = entry['pic']['value']\n",
    "    parsed_data.append([url,\n",
    "     entry['movementLabel']['value'],\n",
    "     entry['creatorLabel']['value'],\n",
    "     entry['inception']['value']])\n",
    "    #filename = url.split('/')[-1]\n",
    "    #r = requests.get(url, allow_redirects=True)\n",
    "    #open('./images/' + filename, 'wb').write(r.content)\n",
    "\n",
    "df = pd.DataFrame(parsed_data,\n",
    "     columns=['picture', 'movement', 'creator', 'inception'])\n",
    "df = df.astype(dtype= {\"picture\":\"<U200\", \"movement\":\"<U200\", \"creator\":\"<U200\", \"inception\":\"<U200\"})\n"
   ],
   "metadata": {
    "id": "cBiCqf2W_OxM"
   },
   "execution_count": 14,
   "outputs": []
  },
  {
   "cell_type": "code",
   "execution_count": 15,
   "outputs": [],
   "source": [
    "def recalculer():\n",
    "    # recalcule param en fct du choix\n",
    "    pass"
   ],
   "metadata": {
    "collapsed": false,
    "pycharm": {
     "name": "#%%\n"
    }
   }
  },
  {
   "cell_type": "markdown",
   "source": [
    "Répartition des tableaux suivant une loi normale (première itération loi uniforme (mais random au début))."
   ],
   "metadata": {
    "id": "uP7tmJTqUGgU"
   }
  },
  {
   "cell_type": "code",
   "source": [
    "def choix():\n",
    "    k = 5 # 5 tableaux proposés\n",
    "    samples = df.sample(n=5)\n",
    "    i = 0\n",
    "    rowIndex = []\n",
    "    for index, row in samples.iterrows():\n",
    "        print(\"=== Choix {} ===\".format(i))\n",
    "        print(row)\n",
    "        rowIndex.append(index)\n",
    "        i+=1\n",
    "    valid = False\n",
    "    while not valid:\n",
    "        selection = input(\"Choisissez une oeuvre (0-{})\".format(k-1))\n",
    "        try:\n",
    "            selection = int(selection)\n",
    "            if 0 <= selection < k:\n",
    "                valid = True\n",
    "        except ValueError:\n",
    "            continue\n",
    "    recalculer(samples.iloc(rowIndex[:, selection]))\n"
   ],
   "metadata": {
    "id": "-t9LjzNVc6Ln"
   },
   "execution_count": 13,
   "outputs": [
    {
     "ename": "ValueError",
     "evalue": "a must be greater than 0 unless no samples are taken",
     "output_type": "error",
     "traceback": [
      "\u001B[0;31m---------------------------------------------------------------------------\u001B[0m",
      "\u001B[0;31mValueError\u001B[0m                                Traceback (most recent call last)",
      "Input \u001B[0;32mIn [13]\u001B[0m, in \u001B[0;36m<cell line: 22>\u001B[0;34m()\u001B[0m\n\u001B[1;32m     19\u001B[0m             \u001B[38;5;28;01mcontinue\u001B[39;00m\n\u001B[1;32m     20\u001B[0m     \u001B[38;5;28;01mreturn\u001B[39;00m samples\u001B[38;5;241m.\u001B[39miloc(rowIndex[:, selection])\n\u001B[0;32m---> 22\u001B[0m \u001B[43mchoix\u001B[49m\u001B[43m(\u001B[49m\u001B[43m)\u001B[49m\n",
      "Input \u001B[0;32mIn [13]\u001B[0m, in \u001B[0;36mchoix\u001B[0;34m()\u001B[0m\n\u001B[1;32m      1\u001B[0m \u001B[38;5;28;01mdef\u001B[39;00m \u001B[38;5;21mchoix\u001B[39m():\n\u001B[1;32m      2\u001B[0m     k \u001B[38;5;241m=\u001B[39m \u001B[38;5;241m5\u001B[39m \u001B[38;5;66;03m# 5 tableaux proposés\u001B[39;00m\n\u001B[0;32m----> 3\u001B[0m     samples \u001B[38;5;241m=\u001B[39m \u001B[43mdf\u001B[49m\u001B[38;5;241;43m.\u001B[39;49m\u001B[43msample\u001B[49m\u001B[43m(\u001B[49m\u001B[43mn\u001B[49m\u001B[38;5;241;43m=\u001B[39;49m\u001B[38;5;241;43m5\u001B[39;49m\u001B[43m)\u001B[49m\n\u001B[1;32m      4\u001B[0m     i \u001B[38;5;241m=\u001B[39m \u001B[38;5;241m0\u001B[39m\n\u001B[1;32m      5\u001B[0m     rowIndex \u001B[38;5;241m=\u001B[39m []\n",
      "File \u001B[0;32m~/Documents/DataMining_Projet/lib/python3.8/site-packages/pandas/core/generic.py:5446\u001B[0m, in \u001B[0;36mNDFrame.sample\u001B[0;34m(self, n, frac, replace, weights, random_state, axis, ignore_index)\u001B[0m\n\u001B[1;32m   5443\u001B[0m \u001B[38;5;28;01mif\u001B[39;00m weights \u001B[38;5;129;01mis\u001B[39;00m \u001B[38;5;129;01mnot\u001B[39;00m \u001B[38;5;28;01mNone\u001B[39;00m:\n\u001B[1;32m   5444\u001B[0m     weights \u001B[38;5;241m=\u001B[39m sample\u001B[38;5;241m.\u001B[39mpreprocess_weights(\u001B[38;5;28mself\u001B[39m, weights, axis)\n\u001B[0;32m-> 5446\u001B[0m sampled_indices \u001B[38;5;241m=\u001B[39m \u001B[43msample\u001B[49m\u001B[38;5;241;43m.\u001B[39;49m\u001B[43msample\u001B[49m\u001B[43m(\u001B[49m\u001B[43mobj_len\u001B[49m\u001B[43m,\u001B[49m\u001B[43m \u001B[49m\u001B[43msize\u001B[49m\u001B[43m,\u001B[49m\u001B[43m \u001B[49m\u001B[43mreplace\u001B[49m\u001B[43m,\u001B[49m\u001B[43m \u001B[49m\u001B[43mweights\u001B[49m\u001B[43m,\u001B[49m\u001B[43m \u001B[49m\u001B[43mrs\u001B[49m\u001B[43m)\u001B[49m\n\u001B[1;32m   5447\u001B[0m result \u001B[38;5;241m=\u001B[39m \u001B[38;5;28mself\u001B[39m\u001B[38;5;241m.\u001B[39mtake(sampled_indices, axis\u001B[38;5;241m=\u001B[39maxis)\n\u001B[1;32m   5449\u001B[0m \u001B[38;5;28;01mif\u001B[39;00m ignore_index:\n",
      "File \u001B[0;32m~/Documents/DataMining_Projet/lib/python3.8/site-packages/pandas/core/sample.py:150\u001B[0m, in \u001B[0;36msample\u001B[0;34m(obj_len, size, replace, weights, random_state)\u001B[0m\n\u001B[1;32m    147\u001B[0m     \u001B[38;5;28;01melse\u001B[39;00m:\n\u001B[1;32m    148\u001B[0m         \u001B[38;5;28;01mraise\u001B[39;00m \u001B[38;5;167;01mValueError\u001B[39;00m(\u001B[38;5;124m\"\u001B[39m\u001B[38;5;124mInvalid weights: weights sum to zero\u001B[39m\u001B[38;5;124m\"\u001B[39m)\n\u001B[0;32m--> 150\u001B[0m \u001B[38;5;28;01mreturn\u001B[39;00m \u001B[43mrandom_state\u001B[49m\u001B[38;5;241;43m.\u001B[39;49m\u001B[43mchoice\u001B[49m\u001B[43m(\u001B[49m\u001B[43mobj_len\u001B[49m\u001B[43m,\u001B[49m\u001B[43m \u001B[49m\u001B[43msize\u001B[49m\u001B[38;5;241;43m=\u001B[39;49m\u001B[43msize\u001B[49m\u001B[43m,\u001B[49m\u001B[43m \u001B[49m\u001B[43mreplace\u001B[49m\u001B[38;5;241;43m=\u001B[39;49m\u001B[43mreplace\u001B[49m\u001B[43m,\u001B[49m\u001B[43m \u001B[49m\u001B[43mp\u001B[49m\u001B[38;5;241;43m=\u001B[39;49m\u001B[43mweights\u001B[49m\u001B[43m)\u001B[49m\u001B[38;5;241m.\u001B[39mastype(\n\u001B[1;32m    151\u001B[0m     np\u001B[38;5;241m.\u001B[39mintp, copy\u001B[38;5;241m=\u001B[39m\u001B[38;5;28;01mFalse\u001B[39;00m\n\u001B[1;32m    152\u001B[0m )\n",
      "File \u001B[0;32mmtrand.pyx:909\u001B[0m, in \u001B[0;36mnumpy.random.mtrand.RandomState.choice\u001B[0;34m()\u001B[0m\n",
      "\u001B[0;31mValueError\u001B[0m: a must be greater than 0 unless no samples are taken"
     ]
    }
   ]
  },
  {
   "cell_type": "markdown",
   "source": [],
   "metadata": {
    "collapsed": false
   }
  },
  {
   "cell_type": "code",
   "source": [
    "import math\n",
    "\n",
    "def probaDate(E, V, df):\n",
    "    p = 1 - (V/E)\n",
    "    n = E / p\n",
    "    P = []\n",
    "    for k in range(0, df.shape[0]):\n",
    "        P[k] = (p**k)*((1-p)**(n-k))*math.factorial(n)/(math.factorial(k) * math.factorial(n - k))\n",
    "    return P"
   ],
   "metadata": {
    "id": "cutpDfT-6BxS"
   },
   "execution_count": 4,
   "outputs": [
    {
     "ename": "NameError",
     "evalue": "name 'np' is not defined",
     "output_type": "error",
     "traceback": [
      "\u001B[0;31m---------------------------------------------------------------------------\u001B[0m",
      "\u001B[0;31mNameError\u001B[0m                                 Traceback (most recent call last)",
      "Input \u001B[0;32mIn [4]\u001B[0m, in \u001B[0;36m<module>\u001B[0;34m\u001B[0m\n\u001B[1;32m      2\u001B[0m E \u001B[38;5;241m=\u001B[39m \u001B[38;5;241m0\u001B[39m \u001B[38;5;66;03m# Année choix\u001B[39;00m\n\u001B[1;32m      4\u001B[0m \u001B[38;5;66;03m# Creating a series of data of in range of 1-50.\u001B[39;00m\n\u001B[0;32m----> 5\u001B[0m x \u001B[38;5;241m=\u001B[39m \u001B[43mnp\u001B[49m\u001B[38;5;241m.\u001B[39mlinspace(\u001B[38;5;241m1\u001B[39m,\u001B[38;5;241m50\u001B[39m,\u001B[38;5;241m200\u001B[39m)\n\u001B[1;32m      7\u001B[0m \u001B[38;5;66;03m#Creating a Function.\u001B[39;00m\n\u001B[1;32m      8\u001B[0m \u001B[38;5;28;01mdef\u001B[39;00m \u001B[38;5;21mnormal_dist\u001B[39m(x , mean , sd):\n",
      "\u001B[0;31mNameError\u001B[0m: name 'np' is not defined"
     ]
    }
   ]
  },
  {
   "cell_type": "code",
   "execution_count": null,
   "outputs": [],
   "source": [
    "def probaMouvement():\n",
    "    P = []\n",
    "    return P"
   ],
   "metadata": {
    "collapsed": false,
    "pycharm": {
     "name": "#%%\n"
    }
   }
  },
  {
   "cell_type": "code",
   "execution_count": null,
   "outputs": [],
   "source": [
    "def probaImage():\n",
    "    P = []\n",
    "    return P"
   ],
   "metadata": {
    "collapsed": false,
    "pycharm": {
     "name": "#%%\n"
    }
   }
  },
  {
   "cell_type": "code",
   "source": [
    "def verifSeuil():\n",
    "    # True si le seuil est dépassé\n",
    "    return False"
   ],
   "metadata": {
    "id": "JtfV-esfXP2D"
   },
   "execution_count": null,
   "outputs": []
  },
  {
   "cell_type": "code",
   "source": [
    "def probaTotal(E0, V0, df):\n",
    "    P0 = probaDate(E0, V0, df)\n",
    "    P1 = probaMouvement()\n",
    "    P2 = probaImage()\n",
    "    PTotal = P0+P1+P2\n",
    "    PTotal /= 3\n",
    "    return PTotal"
   ],
   "metadata": {
    "id": "go62KxGr6B6g"
   },
   "execution_count": null,
   "outputs": []
  },
  {
   "cell_type": "code",
   "execution_count": null,
   "outputs": [],
   "source": [
    "def trouverArtiste():\n",
    "    return \"\""
   ],
   "metadata": {
    "collapsed": false,
    "pycharm": {
     "name": "#%%\n"
    }
   }
  },
  {
   "cell_type": "code",
   "execution_count": null,
   "outputs": [],
   "source": [
    "# Boucle principale\n",
    "E0 = 100\n",
    "V0 = 20\n",
    "while verifSeuil():\n",
    "    choix(E0, V0, df)\n",
    "    probaTotal()\n",
    "\n",
    "trouverArtiste()"
   ],
   "metadata": {
    "collapsed": false,
    "pycharm": {
     "name": "#%%\n"
    }
   }
  }
 ]
}